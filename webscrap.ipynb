{
 "cells": [
  {
   "cell_type": "code",
   "execution_count": 14,
   "metadata": {},
   "outputs": [
    {
     "name": "stdout",
     "output_type": "stream",
     "text": [
      "Петербург против Парижа: как музеи пополняют и как уменьшают общественное достояние\n",
      "None\n",
      "\n",
      "История одного программиста с биполярным расстройством\n",
      "None\n",
      "\n",
      "Как я самостоятельно выучил новый язык за 12 месяцев: тотальный гайд\n",
      "None\n",
      "\n",
      "Сотовый телефон с дисковым номеронабирателем\n",
      "None\n",
      "\n",
      "Contact Center AI: третий участник в разговоре – это нормально\n",
      "None\n",
      "\n",
      "Как мы предсказываем будущее в поиске Яндекса: от исправления ошибок до discovery-запросов\n",
      "None\n",
      "\n",
      "Цифровое бессмертие — инженерный подход\n",
      "None\n",
      "\n",
      "Что такое производительность веб-приложений?\n",
      "None\n",
      "\n",
      "Оживляем гексапода. Часть первая\n",
      "None\n",
      "\n",
      "Имитационная модель процесса обработки материала резанием на токарном станке с ЧПУ\n",
      "None\n",
      "\n",
      "Устройство Helm и его подводные камни\n",
      "None\n",
      "\n",
      "Пришло ли время забыть о React и перейти на Svelte?\n",
      "None\n",
      "\n",
      "Спам, спам, спам…\n",
      "None\n",
      "\n",
      "Исследование RedHat: open source вытесняет проприетарное ПО из корпоративного сегмента\n",
      "None\n",
      "\n",
      "Результаты исследования откликов на вакансию дизайнера цифрового продукта. Часть первая — результаты и статистика\n",
      "None\n",
      "\n",
      "Больше SoC, хороших и разных. Intel открывает AIB для разработчиков и производителей\n",
      "None\n",
      "\n",
      "Как собрать крутой митап: 16 советов от трех «серийных митаперов». Leader-IT events #1\n",
      "None\n",
      "\n",
      "VoiceOver на iOS: каждый контрол ведёт себя по-разному\n",
      "None\n",
      "\n",
      "Невероятная производительность ввода-вывода с параллельным Apache Parquet на Python\n",
      "None\n",
      "\n",
      "Речевой бот в банке — худший UX ever\n",
      "None\n",
      "\n"
     ]
    }
   ],
   "source": [
    "from bs4 import BeautifulSoup\n",
    "import requests\n",
    "import csv\n",
    "source = requests.get('http://habr.com').text\n",
    "soup = BeautifulSoup(source, 'lxml')\n",
    "csv_file = open('habr_scrape.csv', 'w')\n",
    "csv_writer = csv.writer(csv_file)\n",
    "csv_writer.writerow(['headline', 'summary'])\n",
    "for article in soup.find_all('article'):\n",
    "    headline = article.h2.a.text\n",
    "    print(headline)\n",
    "    summary = article.find('div', class_='entry-content')\n",
    "    print(summary)\n",
    "    print()\n",
    "    csv_writer.writerow([headline, summary])\n",
    "csv_file.close()"
   ]
  },
  {
   "cell_type": "code",
   "execution_count": null,
   "metadata": {},
   "outputs": [],
   "source": []
  }
 ],
 "metadata": {
  "kernelspec": {
   "display_name": "Python 3",
   "language": "python",
   "name": "python3"
  },
  "language_info": {
   "codemirror_mode": {
    "name": "ipython",
    "version": 3
   },
   "file_extension": ".py",
   "mimetype": "text/x-python",
   "name": "python",
   "nbconvert_exporter": "python",
   "pygments_lexer": "ipython3",
   "version": "3.7.4"
  }
 },
 "nbformat": 4,
 "nbformat_minor": 2
}
